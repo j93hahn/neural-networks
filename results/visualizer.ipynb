{
 "cells": [
  {
   "cell_type": "code",
   "execution_count": 2,
   "id": "feab398c",
   "metadata": {},
   "outputs": [],
   "source": [
    "import matplotlib.pyplot as plt\n",
    "import numpy as np\n",
    "\n",
    "import torch"
   ]
  },
  {
   "cell_type": "code",
   "execution_count": 26,
   "id": "56b3ef01",
   "metadata": {},
   "outputs": [],
   "source": [
    "def extract_data():\n",
    "    loss = np.load('experiments/weightinit/normal/loss.npy')\n",
    "    params = torch.load('experiments/weightinit/normal/param.pt')\n",
    "    gradients = torch.load('experiments/weightinit/normal/grad.pt')\n",
    "    return loss, params, gradients"
   ]
  },
  {
   "cell_type": "code",
   "execution_count": 4,
   "id": "e5d3b0b0",
   "metadata": {},
   "outputs": [],
   "source": [
    "def stitch_movie():\n",
    "    import imageio"
   ]
  },
  {
   "cell_type": "code",
   "execution_count": 28,
   "id": "ea3081e7",
   "metadata": {},
   "outputs": [],
   "source": [
    "loss, params, gradients = extract_data()"
   ]
  },
  {
   "cell_type": "code",
   "execution_count": 49,
   "id": "0850122c",
   "metadata": {},
   "outputs": [
    {
     "data": {
      "text/plain": [
       "0.689832"
      ]
     },
     "execution_count": 49,
     "metadata": {},
     "output_type": "execute_result"
    }
   ],
   "source": [
    "loss[4].min()"
   ]
  },
  {
   "cell_type": "code",
   "execution_count": 21,
   "id": "03a1e3da",
   "metadata": {},
   "outputs": [],
   "source": [
    "x = np.arange(12*600)"
   ]
  },
  {
   "cell_type": "code",
   "execution_count": 22,
   "id": "6306cca4",
   "metadata": {},
   "outputs": [
    {
     "data": {
      "image/png": "[encoded data removed]",
      "text/plain": [
       "<Figure size 432x288 with 1 Axes>"
      ]
     },
     "metadata": {
      "needs_background": "light"
     },
     "output_type": "display_data"
    }
   ],
   "source": [
    "plt.plot(x, loss.reshape(-1))\n",
    "#plt.savefig('hello.png')\n",
    "plt.show()"
   ]
  },
  {
   "cell_type": "code",
   "execution_count": 9,
   "id": "0d6c7ef0",
   "metadata": {},
   "outputs": [
    {
     "data": {
      "text/plain": [
       "(dict_keys(['0.weight', '0.bias', '1.weight', '1.bias', '4.weight', '4.bias', '5.weight', '5.bias', '9.weight', '9.bias', '11.weight', '11.bias']),\n",
       " dict_keys(['0.weight', '0.bias', '1.weight', '1.bias', '4.weight', '4.bias', '5.weight', '5.bias', '9.weight', '9.bias', '11.weight', '11.bias']))"
      ]
     },
     "execution_count": 9,
     "metadata": {},
     "output_type": "execute_result"
    }
   ],
   "source": [
    "params.keys(), gradients.keys()"
   ]
  },
  {
   "cell_type": "code",
   "execution_count": 24,
   "id": "f69c5b9c",
   "metadata": {},
   "outputs": [
    {
     "data": {
      "text/plain": [
       "0.079599574"
      ]
     },
     "execution_count": 24,
     "metadata": {},
     "output_type": "execute_result"
    }
   ],
   "source": [
    "params['0.weight'][1:].max()"
   ]
  },
  {
   "cell_type": "code",
   "execution_count": 15,
   "id": "b72376dc",
   "metadata": {},
   "outputs": [
    {
     "data": {
      "text/plain": [
       "-4.1271653"
      ]
     },
     "execution_count": 15,
     "metadata": {},
     "output_type": "execute_result"
    }
   ],
   "source": [
    "gradients['9.weight'].min()"
   ]
  },
  {
   "cell_type": "code",
   "execution_count": null,
   "id": "fc78ba25",
   "metadata": {},
   "outputs": [],
   "source": [
    " "
   ]
  }
 ],
 "metadata": {
  "kernelspec": {
   "display_name": "Python [conda env:spacestation]",
   "language": "python",
   "name": "conda-env-spacestation-py"
  },
  "language_info": {
   "codemirror_mode": {
    "name": "ipython",
    "version": 3
   },
   "file_extension": ".py",
   "mimetype": "text/x-python",
   "name": "python",
   "nbconvert_exporter": "python",
   "pygments_lexer": "ipython3",
   "version": "3.10.4"
  }
 },
 "nbformat": 4,
 "nbformat_minor": 5
}
